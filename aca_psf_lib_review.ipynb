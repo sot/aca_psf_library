{
 "cells": [
  {
   "cell_type": "markdown",
   "metadata": {},
   "source": [
    "The `aca_psf_library` module will generate and access a set of PSF images generated from flight data."
   ]
  },
  {
   "cell_type": "code",
   "execution_count": 1,
   "metadata": {
    "collapsed": true
   },
   "outputs": [],
   "source": [
    "import numpy as np\n",
    "import matplotlib.pyplot as plt\n",
    "import matplotlib.cm\n",
    "from astropy.table import Table\n",
    "from mica.stats import guide_stats"
   ]
  },
  {
   "cell_type": "code",
   "execution_count": 2,
   "metadata": {
    "collapsed": true
   },
   "outputs": [],
   "source": [
    "%matplotlib inline"
   ]
  },
  {
   "cell_type": "code",
   "execution_count": 3,
   "metadata": {
    "collapsed": true
   },
   "outputs": [],
   "source": [
    "import aca_psf_library"
   ]
  },
  {
   "cell_type": "markdown",
   "metadata": {},
   "source": [
    "A set of bright stars is used to generate the mean images.  The code used to select stars is included below\n",
    "as this set is still being refined."
   ]
  },
  {
   "cell_type": "code",
   "execution_count": 4,
   "metadata": {},
   "outputs": [],
   "source": [
    "#guide_stars = aca_psf_library.get_obs_slots()\n",
    "def get_obs_slots():\n",
    "    \"\"\"                                                                                                          \n",
    "    Use the guide star database to get a Table of long-ish ER observations with bright stars tracked well        \n",
    "    I've used the old n100_warm_frac as a proxy for expected low-ish dark current, though the residuals          \n",
    "    probably support this just as well.  This doesn't check for dither-disabled explicitly; I'm hoping we'd be   \n",
    "    sensitive to that via the check that there is good centroid coverage within the observation.                 \n",
    "    \"\"\"\n",
    "    gs = Table(guide_stats.get_stats())\n",
    "    gs['dur'] = gs['npnt_tstop'].astype(float) - gs['kalman_tstart']\n",
    "    ok = ((gs['obsid'] > 38000)\n",
    "          & (gs['dur'] > 30000)\n",
    "          & (gs['sz'] == '8x8')\n",
    "          & (gs['aoacmag_mean'] < 6.5)\n",
    "          & (gs['f_track'] > .99)\n",
    "          & (gs['dy_std'] < .2)\n",
    "          & (gs['dz_std'] < .2)\n",
    "      & (gs['n100_warm_frac'] < .10))\n",
    "    return gs[ok]\n",
    "guide_stars = get_obs_slots()"
   ]
  },
  {
   "cell_type": "code",
   "execution_count": 30,
   "metadata": {},
   "outputs": [
    {
     "data": {
      "text/html": [
       "&lt;Table length=17&gt;\n",
       "<table id=\"table139736739039272\" class=\"table-striped table-bordered table-condensed\">\n",
       "<thead><tr><th>obsid</th><th>kalman_datestart</th><th>dur</th><th>tccd_mean</th><th>aoacmag_mean</th><th>yang</th><th>zang</th></tr></thead>\n",
       "<thead><tr><th>int64</th><th>bytes21</th><th>float64</th><th>float64</th><th>float64</th><th>float64</th><th>float64</th></tr></thead>\n",
       "<tr><td>60670</td><td>2003:187:03:07:03.912</td><td>38880.301</td><td>-14.7281799316</td><td>6.43790626526</td><td>-567.0</td><td>-281.0</td></tr>\n",
       "<tr><td>60233</td><td>2004:136:22:02:52.791</td><td>33318.652</td><td>-15.4522504807</td><td>5.77071809769</td><td>997.0</td><td>2093.0</td></tr>\n",
       "<tr><td>59460</td><td>2005:249:15:50:34.656</td><td>33658.951</td><td>-15.599395752</td><td>6.29500341415</td><td>-892.0</td><td>-1528.0</td></tr>\n",
       "<tr><td>58649</td><td>2006:347:06:39:37.020</td><td>35946.751</td><td>-18.4623279572</td><td>6.12496805191</td><td>1345.0</td><td>2028.0</td></tr>\n",
       "<tr><td>58426</td><td>2007:111:20:48:35.851</td><td>32979.377</td><td>-19.5828075409</td><td>6.19875335693</td><td>-1226.0</td><td>1299.0</td></tr>\n",
       "<tr><td>58400</td><td>2007:130:09:18:00.328</td><td>37000.451</td><td>-19.5828094482</td><td>6.06250333786</td><td>-1850.0</td><td>-821.0</td></tr>\n",
       "<tr><td>58300</td><td>2007:209:14:23:21.555</td><td>51259.228</td><td>-19.5828094482</td><td>6.12499761581</td><td>-675.0</td><td>1701.0</td></tr>\n",
       "<tr><td>57818</td><td>2008:132:23:57:26.161</td><td>44755.602</td><td>-19.5885601044</td><td>6.31467580795</td><td>-972.0</td><td>-731.0</td></tr>\n",
       "<tr><td>57775</td><td>2008:159:10:08:59.472</td><td>33413.9770001</td><td>-19.5828094482</td><td>6.43747711182</td><td>374.0</td><td>-1717.0</td></tr>\n",
       "<tr><td>57775</td><td>2008:159:10:08:59.472</td><td>33413.9770001</td><td>-19.5828094482</td><td>6.43748474121</td><td>-689.0</td><td>1238.0</td></tr>\n",
       "<tr><td>56962</td><td>2009:192:21:32:20.988</td><td>30121.677</td><td>-20.1028194427</td><td>6.31244039536</td><td>-2334.0</td><td>-218.0</td></tr>\n",
       "<tr><td>56115</td><td>2010:200:12:55:15.116</td><td>35028.352</td><td>-19.5828094482</td><td>6.12497806549</td><td>-2004.0</td><td>991.0</td></tr>\n",
       "<tr><td>56054</td><td>2010:240:05:03:33.692</td><td>41421.277</td><td>-19.5828075409</td><td>6.43745660782</td><td>1308.0</td><td>661.0</td></tr>\n",
       "<tr><td>56026</td><td>2010:258:18:04:03.674</td><td>31631.502</td><td>-19.5828075409</td><td>6.24992704391</td><td>554.0</td><td>-1356.0</td></tr>\n",
       "<tr><td>56022</td><td>2010:261:09:13:20.986</td><td>33280.726</td><td>-19.5828094482</td><td>6.24996137619</td><td>683.0</td><td>-1296.0</td></tr>\n",
       "<tr><td>55252</td><td>2011:221:14:52:57.069</td><td>30660.826</td><td>-19.5828075409</td><td>6.23289108276</td><td>965.0</td><td>1685.0</td></tr>\n",
       "<tr><td>55241</td><td>2011:229:13:17:36.105</td><td>32034.326</td><td>-18.4996356964</td><td>5.93893241882</td><td>-972.0</td><td>1576.0</td></tr>\n",
       "</table>"
      ],
      "text/plain": [
       "<Table length=17>\n",
       "obsid    kalman_datestart        dur      ...  aoacmag_mean   yang    zang \n",
       "int64        bytes21           float64    ...    float64    float64 float64\n",
       "----- --------------------- ------------- ... ------------- ------- -------\n",
       "60670 2003:187:03:07:03.912     38880.301 ... 6.43790626526  -567.0  -281.0\n",
       "60233 2004:136:22:02:52.791     33318.652 ... 5.77071809769   997.0  2093.0\n",
       "59460 2005:249:15:50:34.656     33658.951 ... 6.29500341415  -892.0 -1528.0\n",
       "58649 2006:347:06:39:37.020     35946.751 ... 6.12496805191  1345.0  2028.0\n",
       "58426 2007:111:20:48:35.851     32979.377 ... 6.19875335693 -1226.0  1299.0\n",
       "58400 2007:130:09:18:00.328     37000.451 ... 6.06250333786 -1850.0  -821.0\n",
       "58300 2007:209:14:23:21.555     51259.228 ... 6.12499761581  -675.0  1701.0\n",
       "57818 2008:132:23:57:26.161     44755.602 ... 6.31467580795  -972.0  -731.0\n",
       "57775 2008:159:10:08:59.472 33413.9770001 ... 6.43747711182   374.0 -1717.0\n",
       "57775 2008:159:10:08:59.472 33413.9770001 ... 6.43748474121  -689.0  1238.0\n",
       "56962 2009:192:21:32:20.988     30121.677 ... 6.31244039536 -2334.0  -218.0\n",
       "56115 2010:200:12:55:15.116     35028.352 ... 6.12497806549 -2004.0   991.0\n",
       "56054 2010:240:05:03:33.692     41421.277 ... 6.43745660782  1308.0   661.0\n",
       "56026 2010:258:18:04:03.674     31631.502 ... 6.24992704391   554.0 -1356.0\n",
       "56022 2010:261:09:13:20.986     33280.726 ... 6.24996137619   683.0 -1296.0\n",
       "55252 2011:221:14:52:57.069     30660.826 ... 6.23289108276   965.0  1685.0\n",
       "55241 2011:229:13:17:36.105     32034.326 ... 5.93893241882  -972.0  1576.0"
      ]
     },
     "execution_count": 30,
     "metadata": {},
     "output_type": "execute_result"
    }
   ],
   "source": [
    "guide_stars[['obsid', 'kalman_datestart', 'dur', 'tccd_mean', 'aoacmag_mean', 'yang', 'zang']]"
   ]
  },
  {
   "cell_type": "markdown",
   "metadata": {},
   "source": [
    "The library code is presently binning the centroids from the observation into a 10x10 grid in a 1x1 pixel region in the center of the 8x8, stacking the images associated with the centroids centroid bins, and calculating mean/normalized pixel images for each stack.\n",
    "\n",
    "The mean/normalized pixel image for each stack via this method is then averaged over the stars in the set."
   ]
  },
  {
   "cell_type": "code",
   "execution_count": 6,
   "metadata": {},
   "outputs": [],
   "source": [
    "master_psf, distributions = aca_psf_library.make_library(guide_stars)"
   ]
  },
  {
   "cell_type": "code",
   "execution_count": 31,
   "metadata": {},
   "outputs": [
    {
     "data": {
      "image/png": "[encoded data removed]",
      "text/plain": [
       "<matplotlib.figure.Figure at 0x7f16fe24d5f8>"
      ]
     },
     "metadata": {},
     "output_type": "display_data"
    }
   ],
   "source": [
    "fig, axes = plt.subplots(10, 10, figsize=(15, 15))\n",
    "for i in range(9, -1, -1):\n",
    "    for j in range(9, -1, -1):\n",
    "        axes[i][j].imshow(master_psf[(i, j)], cmap='hot', origin='lower', vmin=0, vmax=.18)\n",
    "        axes[i][j].set_xticks([])\n",
    "        axes[i][j].set_yticks([])"
   ]
  },
  {
   "cell_type": "code",
   "execution_count": null,
   "metadata": {
    "collapsed": true
   },
   "outputs": [],
   "source": []
  }
 ],
 "metadata": {
  "kernelspec": {
   "display_name": "Python 3",
   "language": "python",
   "name": "python3"
  },
  "language_info": {
   "codemirror_mode": {
    "name": "ipython",
    "version": 3
   },
   "file_extension": ".py",
   "mimetype": "text/x-python",
   "name": "python",
   "nbconvert_exporter": "python",
   "pygments_lexer": "ipython3",
   "version": "3.6.0"
  }
 },
 "nbformat": 4,
 "nbformat_minor": 2
}
